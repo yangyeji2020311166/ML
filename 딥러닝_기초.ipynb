{
  "nbformat": 4,
  "nbformat_minor": 0,
  "metadata": {
    "colab": {
      "name": "딥러닝 기초.ipynb",
      "provenance": [],
      "collapsed_sections": [],
      "authorship_tag": "ABX9TyNd5QGqNr40LSOeMciJ2VJz",
      "include_colab_link": true
    },
    "kernelspec": {
      "name": "python3",
      "display_name": "Python 3"
    },
    "language_info": {
      "name": "python"
    }
  },
  "cells": [
    {
      "cell_type": "markdown",
      "metadata": {
        "id": "view-in-github",
        "colab_type": "text"
      },
      "source": [
        "<a href=\"https://colab.research.google.com/github/yangyeji2020311166/ML/blob/main/%EB%94%A5%EB%9F%AC%EB%8B%9D_%EA%B8%B0%EC%B4%88.ipynb\" target=\"_parent\"><img src=\"https://colab.research.google.com/assets/colab-badge.svg\" alt=\"Open In Colab\"/></a>"
      ]
    },
    {
      "cell_type": "code",
      "execution_count": 1,
      "metadata": {
        "colab": {
          "base_uri": "https://localhost:8080/"
        },
        "id": "zh8XVUNpyP-5",
        "outputId": "c8332471-ad9b-4c7d-eb64-6cfc231e0699"
      },
      "outputs": [
        {
          "output_type": "stream",
          "name": "stdout",
          "text": [
            "a=-0.197879, b = 0.275291, c = -0.931819, d = 0.624616, e = -0.099768, f = 0.548882, g = 0.084979, h = 0.076389, i = 0.068012\n"
          ]
        }
      ],
      "source": [
        "import math\n",
        "import random\n",
        "\n",
        "a = random.uniform(-1,1)\n",
        "b = random.uniform(-1,1)\n",
        "c = random.uniform(-1,1)\n",
        "d = random.uniform(-1,1)\n",
        "e = random.uniform(-1,1)\n",
        "f = random.uniform(-1,1)\n",
        "g = random.uniform(-1,1)\n",
        "h = random.uniform(-1,1)\n",
        "i = random.uniform(-1,1)\n",
        "\n",
        "eta = 0.00001\n",
        "\n",
        "def sigmoid(x):\n",
        "    return 1.0/(1.0+math.exp(-x))\n",
        "\n",
        "data = [(2,7), (3,1), (4,6), (11, 11), (8,2), (6,3), (3,10)]\n",
        "labels = [1, -1, 1, 1, -1, -1, 1]\n",
        "\n",
        "for counter in range(10000):\n",
        "    da=db=dc=dd=de=df=dg=dh=di=0.0\n",
        "    for index in range(len(data)):\n",
        "        x = float(data[index][0])\n",
        "        y = float(data[index][1])\n",
        "        z1 = a*x+b*y+c\n",
        "        X = sigmoid(z1)\n",
        "        z2 = d*x+e*y+f\n",
        "        Y = sigmoid(z2)\n",
        "        z = g*X+h*Y+i\n",
        "        Z = labels[index]\n",
        "        dz = 2*(z-Z)\n",
        "        dz1 = dz*g*sigmoid(z1)*(1.0-sigmoid(z1))\n",
        "        dz2 = dz*h*sigmoid(z2)*(1.0-sigmoid(z2))\n",
        "        da += dz1*x\n",
        "        db += dz1*y\n",
        "        dc += dz1\n",
        "        dd += dz2*x\n",
        "        de += dz2*y\n",
        "        df += dz2\n",
        "        dg += dz*X\n",
        "        dh += dz*Y\n",
        "        di += dz\n",
        "\n",
        "    a = a-eta*da\n",
        "    b = b-eta*db\n",
        "    c = c-eta*dc\n",
        "    d = d-eta*dd\n",
        "    e = e-eta*de\n",
        "    f = f-eta*df\n",
        "    g = g-eta*dg\n",
        "    h = h-eta*dh\n",
        "    i = i-eta*di\n",
        "    \n",
        "print(\"a=%lf, b = %lf, c = %lf, d = %lf, e = %lf, f = %lf, g = %lf, h = %lf, i = %lf\" % (a,b,c,d,e,f,g,h,i))"
      ]
    },
    {
      "cell_type": "code",
      "source": [
        "import math\n",
        "import random\n",
        "zValue = [0,0,0,0,0,0,0]\n",
        "FinalzValue = [0,0,0,0,0,0,0]\n",
        "\n",
        "a = random.uniform(-1,1)\n",
        "b = random.uniform(-1,1)\n",
        "c = random.uniform(-1,1)\n",
        "d = random.uniform(-1,1)\n",
        "e = random.uniform(-1,1)\n",
        "f = random.uniform(-1,1)\n",
        "g = random.uniform(-1,1)\n",
        "h = random.uniform(-1,1)\n",
        "i = random.uniform(-1,1)\n",
        "\n",
        "eta = 0.0001\n",
        "\n",
        "def sigmoid(x):\n",
        "    return 1.0/(1.0+math.exp(-x))\n",
        "\n",
        "data = [(7,4), (13,3), (8,2), (13, 7), (9,4), (6,3), (10,3)]\n",
        "labels = [2, 8, 3, 5, 3, 2, 4]\n",
        "\n",
        "for counter in range(1000):\n",
        "    da=db=dc=dd=de=df=dg=dh=di=0.0\n",
        "    for index in range(len(data)):\n",
        "        x = float(data[index][0])\n",
        "        y = float(data[index][1])\n",
        "        z1 = a*x+b*y+c\n",
        "        X = sigmoid(z1)\n",
        "        z2 = d*x+e*y+f\n",
        "        Y = sigmoid(z2)\n",
        "        z = g*X+h*Y+i\n",
        "        Z = labels[index]\n",
        "        dz = 2*(z-Z)\n",
        "        dz1 = dz*g*sigmoid(z1)*(1.0-sigmoid(z1))\n",
        "        dz2 = dz*h*sigmoid(z2)*(1.0-sigmoid(z2))\n",
        "        da += dz1*x\n",
        "        db += dz1*y\n",
        "        dc += dz1\n",
        "        dd += dz2*x\n",
        "        de += dz2*y\n",
        "        df += dz2\n",
        "        dg += dz*X\n",
        "        dh += dz*Y\n",
        "        di += dz\n",
        "\n",
        "    a = a-eta*da\n",
        "    b = b-eta*db\n",
        "    c = c-eta*dc\n",
        "    d = d-eta*dd\n",
        "    e = e-eta*de\n",
        "    f = f-eta*df\n",
        "    g = g-eta*dg\n",
        "    h = h-eta*dh\n",
        "    i = i-eta*di\n",
        "    \n",
        "print(\"a=%lf, b = %lf, c = %lf, d = %lf, e = %lf, f = %lf, g = %lf, h = %lf, i = %lf\" % (a,b,c,d,e,f,g,h,i))\n",
        "        \n",
        "\n",
        "for counter in range(1000):\n",
        "    for index in range(len(data)):\n",
        "        x = float(data[index][0])\n",
        "        y = float(data[index][1])\n",
        "        z1 = a*x+b*y+c\n",
        "        X = sigmoid(z1)\n",
        "        z2 = d*x+e*y+f\n",
        "        Y = sigmoid(z2)\n",
        "        z = g*X+h*Y+i\n",
        "\n",
        "        zValue[index] += z\n",
        "        \n",
        "for index in range(len(data)):\n",
        "    FinalzValue[index] = zValue[index] / 1000\n",
        "\n",
        "print(FinalzValue)\n"
      ],
      "metadata": {
        "colab": {
          "base_uri": "https://localhost:8080/"
        },
        "id": "0PI0Xp2_zbVK",
        "outputId": "1a720059-dde4-4b59-fb2e-7464b1c6cd9a"
      },
      "execution_count": 2,
      "outputs": [
        {
          "output_type": "stream",
          "name": "stdout",
          "text": [
            "a=0.815283, b = 0.403885, c = -0.733177, d = -0.769989, e = 0.348505, f = 0.001494, g = 1.211137, h = -0.951636, i = 2.461433\n",
            "[3.653696944649261, 3.6724298764329424, 3.6668948925635294, 3.67207567654578, 3.6685015915600405, 3.6409744135097686, 3.671128091389261]\n"
          ]
        }
      ]
    }
  ]
}