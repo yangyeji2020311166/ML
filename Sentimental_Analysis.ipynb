{
  "nbformat": 4,
  "nbformat_minor": 0,
  "metadata": {
    "colab": {
      "name": "Sentimental_Analysis.ipynb",
      "provenance": [],
      "collapsed_sections": [],
      "authorship_tag": "ABX9TyOPKFNEEzbJPKGqfPQBTIkR",
      "include_colab_link": true
    },
    "kernelspec": {
      "name": "python3",
      "display_name": "Python 3"
    },
    "language_info": {
      "name": "python"
    }
  },
  "cells": [
    {
      "cell_type": "markdown",
      "metadata": {
        "id": "view-in-github",
        "colab_type": "text"
      },
      "source": [
        "<a href=\"https://colab.research.google.com/github/yangyeji2020311166/ML/blob/main/Sentimental_Analysis.ipynb\" target=\"_parent\"><img src=\"https://colab.research.google.com/assets/colab-badge.svg\" alt=\"Open In Colab\"/></a>"
      ]
    },
    {
      "cell_type": "code",
      "execution_count": 1,
      "metadata": {
        "colab": {
          "base_uri": "https://localhost:8080/"
        },
        "id": "oPcKSte15ykc",
        "outputId": "35a06b9f-3ed4-44c7-a572-d5e7d27a3be2"
      },
      "outputs": [
        {
          "output_type": "stream",
          "name": "stderr",
          "text": [
            "/usr/local/lib/python3.7/dist-packages/statsmodels/tools/_testing.py:19: FutureWarning: pandas.util.testing is deprecated. Use the functions in the public API at pandas.testing instead.\n",
            "  import pandas.util.testing as tm\n"
          ]
        }
      ],
      "source": [
        "import numpy as np\n",
        "import pandas as pd\n",
        "import matplotlib.pyplot as plt\n",
        "import statsmodels.api as sm\n",
        "import seaborn as sns\n",
        "import scipy as sp\n",
        "import matplotlib as mpl"
      ]
    },
    {
      "cell_type": "code",
      "source": [
        "!pip install wget\n",
        "import wget\n",
        "\n",
        "url1 = 'https://raw.githubusercontent.com/e9t/nsmc/master/ratings_train.txt'\n",
        "wget.download(url1)"
      ],
      "metadata": {
        "colab": {
          "base_uri": "https://localhost:8080/",
          "height": 204
        },
        "id": "4vMuGTvR56fH",
        "outputId": "26c4a4c2-3246-4976-dfda-c009d3af8fc9"
      },
      "execution_count": 2,
      "outputs": [
        {
          "output_type": "stream",
          "name": "stdout",
          "text": [
            "Collecting wget\n",
            "  Downloading wget-3.2.zip (10 kB)\n",
            "Building wheels for collected packages: wget\n",
            "  Building wheel for wget (setup.py) ... \u001b[?25l\u001b[?25hdone\n",
            "  Created wheel for wget: filename=wget-3.2-py3-none-any.whl size=9675 sha256=f2f5740ce4dd13d6b42e4fd7b8fdcd1849767c6e28a21a333774a27a32d2e194\n",
            "  Stored in directory: /root/.cache/pip/wheels/a1/b6/7c/0e63e34eb06634181c63adacca38b79ff8f35c37e3c13e3c02\n",
            "Successfully built wget\n",
            "Installing collected packages: wget\n",
            "Successfully installed wget-3.2\n"
          ]
        },
        {
          "output_type": "execute_result",
          "data": {
            "text/plain": [
              "'ratings_train.txt'"
            ],
            "application/vnd.google.colaboratory.intrinsic+json": {
              "type": "string"
            }
          },
          "metadata": {},
          "execution_count": 2
        }
      ]
    },
    {
      "cell_type": "code",
      "source": [
        "url2 = 'https://raw.githubusercontent.com/e9t/nsmc/master/ratings_test.txt'\n",
        "wget.download(url2)"
      ],
      "metadata": {
        "colab": {
          "base_uri": "https://localhost:8080/",
          "height": 36
        },
        "id": "VzcaWl_M6DEc",
        "outputId": "5f79b0de-675e-42ba-f14c-754f4bfe915a"
      },
      "execution_count": 3,
      "outputs": [
        {
          "output_type": "execute_result",
          "data": {
            "text/plain": [
              "'ratings_test.txt'"
            ],
            "application/vnd.google.colaboratory.intrinsic+json": {
              "type": "string"
            }
          },
          "metadata": {},
          "execution_count": 3
        }
      ]
    },
    {
      "cell_type": "code",
      "source": [
        "import codecs\n",
        "\n",
        "with codecs.open(\"ratings_train.txt\", encoding='utf-8') as f:\n",
        "    data = [line.split('\\t') for line in f.read().splitlines()]\n",
        "    data = data[1:]   # header 제외"
      ],
      "metadata": {
        "id": "7bM18jhk6HIj"
      },
      "execution_count": 4,
      "outputs": []
    },
    {
      "cell_type": "code",
      "source": [
        "from pprint import pprint\n",
        "pprint(data[0])"
      ],
      "metadata": {
        "colab": {
          "base_uri": "https://localhost:8080/"
        },
        "id": "QY_82KOV6I7w",
        "outputId": "33b7d359-bdea-439f-8e58-933f39b1e5c5"
      },
      "execution_count": 5,
      "outputs": [
        {
          "output_type": "stream",
          "name": "stdout",
          "text": [
            "['9976970', '아 더빙.. 진짜 짜증나네요 목소리', '0']\n"
          ]
        }
      ]
    },
    {
      "cell_type": "code",
      "source": [
        "X = list(zip(*data))[1]\n",
        "y = np.array(list(zip(*data))[2], dtype=int)"
      ],
      "metadata": {
        "id": "HaCnRDa96K0M"
      },
      "execution_count": 6,
      "outputs": []
    },
    {
      "cell_type": "code",
      "source": [
        "from sklearn.feature_extraction.text import CountVectorizer\n",
        "from sklearn.naive_bayes import MultinomialNB\n",
        "from sklearn.pipeline import Pipeline\n",
        "from sklearn.metrics import classification_report\n",
        "\n",
        "model1 = Pipeline([\n",
        "    ('vect', CountVectorizer()),\n",
        "    ('mb', MultinomialNB()),\n",
        "])"
      ],
      "metadata": {
        "id": "V1dmbou36NpT"
      },
      "execution_count": 7,
      "outputs": []
    },
    {
      "cell_type": "code",
      "source": [
        "model1.fit(X, y)"
      ],
      "metadata": {
        "colab": {
          "base_uri": "https://localhost:8080/"
        },
        "id": "nYw7ed_x6MSO",
        "outputId": "3c3e71cf-4763-4907-80b1-0d20b603c976"
      },
      "execution_count": 8,
      "outputs": [
        {
          "output_type": "execute_result",
          "data": {
            "text/plain": [
              "Pipeline(steps=[('vect', CountVectorizer()), ('mb', MultinomialNB())])"
            ]
          },
          "metadata": {},
          "execution_count": 8
        }
      ]
    },
    {
      "cell_type": "code",
      "source": [
        "import codecs\n",
        "with codecs.open(\"ratings_test.txt\", encoding='utf-8') as f:\n",
        "    data_test = [line.split('\\t') for line in f.read().splitlines()]\n",
        "    data_test = data_test[1:]   # header 제외"
      ],
      "metadata": {
        "id": "KcdwBoZ86RTX"
      },
      "execution_count": 9,
      "outputs": []
    },
    {
      "cell_type": "code",
      "source": [
        "X_test = list(zip(*data_test))[1]\n",
        "y_test = np.array(list(zip(*data_test))[2], dtype=int)\n",
        "\n",
        "print(classification_report(y_test, model1.predict(X_test)))"
      ],
      "metadata": {
        "colab": {
          "base_uri": "https://localhost:8080/"
        },
        "id": "IyBGDgqU6TGh",
        "outputId": "813363cc-7432-426a-ddaf-369d4de540ff"
      },
      "execution_count": 10,
      "outputs": [
        {
          "output_type": "stream",
          "name": "stdout",
          "text": [
            "              precision    recall  f1-score   support\n",
            "\n",
            "           0       0.81      0.84      0.83     24827\n",
            "           1       0.84      0.81      0.82     25173\n",
            "\n",
            "    accuracy                           0.83     50000\n",
            "   macro avg       0.83      0.83      0.83     50000\n",
            "weighted avg       0.83      0.83      0.83     50000\n",
            "\n"
          ]
        }
      ]
    },
    {
      "cell_type": "code",
      "source": [
        "from sklearn.feature_extraction.text import TfidfVectorizer\n",
        "\n",
        "model2 = Pipeline([\n",
        "    ('vect', TfidfVectorizer()),\n",
        "    ('mb', MultinomialNB()),\n",
        "])"
      ],
      "metadata": {
        "id": "As5HBKFx6Ua-"
      },
      "execution_count": 11,
      "outputs": []
    },
    {
      "cell_type": "code",
      "source": [
        "model2.fit(X, y)"
      ],
      "metadata": {
        "colab": {
          "base_uri": "https://localhost:8080/"
        },
        "id": "8wMedkaJ6W-H",
        "outputId": "a196f1eb-d82d-4232-b5af-a296e339b20c"
      },
      "execution_count": 12,
      "outputs": [
        {
          "output_type": "execute_result",
          "data": {
            "text/plain": [
              "Pipeline(steps=[('vect', TfidfVectorizer()), ('mb', MultinomialNB())])"
            ]
          },
          "metadata": {},
          "execution_count": 12
        }
      ]
    },
    {
      "cell_type": "code",
      "source": [
        "print(classification_report(y_test, model2.predict(X_test)))"
      ],
      "metadata": {
        "colab": {
          "base_uri": "https://localhost:8080/"
        },
        "id": "XLSymMIY6YWj",
        "outputId": "96385c6c-af9b-46e4-f077-5f5fc60544e1"
      },
      "execution_count": 13,
      "outputs": [
        {
          "output_type": "stream",
          "name": "stdout",
          "text": [
            "              precision    recall  f1-score   support\n",
            "\n",
            "           0       0.81      0.84      0.83     24827\n",
            "           1       0.84      0.81      0.83     25173\n",
            "\n",
            "    accuracy                           0.83     50000\n",
            "   macro avg       0.83      0.83      0.83     50000\n",
            "weighted avg       0.83      0.83      0.83     50000\n",
            "\n"
          ]
        }
      ]
    },
    {
      "cell_type": "code",
      "source": [
        "!pip install konlpy\n",
        "from konlpy.tag import Okt\n",
        "pos_tagger = Okt()\n",
        "\n",
        "def tokenize_pos(doc):\n",
        "    return ['/'.join(t) for t in pos_tagger.pos(doc)]"
      ],
      "metadata": {
        "colab": {
          "base_uri": "https://localhost:8080/"
        },
        "id": "cpnL0azG6Z45",
        "outputId": "c1b42b58-5a24-4128-ed3e-c125836f99e4"
      },
      "execution_count": 14,
      "outputs": [
        {
          "output_type": "stream",
          "name": "stdout",
          "text": [
            "Collecting konlpy\n",
            "  Downloading konlpy-0.6.0-py2.py3-none-any.whl (19.4 MB)\n",
            "\u001b[K     |████████████████████████████████| 19.4 MB 45.6 MB/s \n",
            "\u001b[?25hRequirement already satisfied: lxml>=4.1.0 in /usr/local/lib/python3.7/dist-packages (from konlpy) (4.2.6)\n",
            "Requirement already satisfied: numpy>=1.6 in /usr/local/lib/python3.7/dist-packages (from konlpy) (1.21.6)\n",
            "Collecting JPype1>=0.7.0\n",
            "  Downloading JPype1-1.3.0-cp37-cp37m-manylinux_2_5_x86_64.manylinux1_x86_64.whl (448 kB)\n",
            "\u001b[K     |████████████████████████████████| 448 kB 46.6 MB/s \n",
            "\u001b[?25hRequirement already satisfied: typing-extensions in /usr/local/lib/python3.7/dist-packages (from JPype1>=0.7.0->konlpy) (4.1.1)\n",
            "Installing collected packages: JPype1, konlpy\n",
            "Successfully installed JPype1-1.3.0 konlpy-0.6.0\n"
          ]
        }
      ]
    },
    {
      "cell_type": "code",
      "source": [
        "model3 = Pipeline([\n",
        "    ('vect', CountVectorizer(tokenizer=tokenize_pos)),\n",
        "    ('mb', MultinomialNB()),\n",
        "])"
      ],
      "metadata": {
        "id": "auY5DgK-6bS_"
      },
      "execution_count": 15,
      "outputs": []
    },
    {
      "cell_type": "code",
      "source": [
        "model3.fit(X, y)"
      ],
      "metadata": {
        "colab": {
          "base_uri": "https://localhost:8080/"
        },
        "id": "X48Wzcq76dZZ",
        "outputId": "302e2a00-4e54-4446-f9a1-710f47ba251d"
      },
      "execution_count": 16,
      "outputs": [
        {
          "output_type": "execute_result",
          "data": {
            "text/plain": [
              "Pipeline(steps=[('vect',\n",
              "                 CountVectorizer(tokenizer=<function tokenize_pos at 0x7f8ac0653950>)),\n",
              "                ('mb', MultinomialNB())])"
            ]
          },
          "metadata": {},
          "execution_count": 16
        }
      ]
    },
    {
      "cell_type": "code",
      "source": [
        "print(classification_report(y_test, model3.predict(X_test)))"
      ],
      "metadata": {
        "colab": {
          "base_uri": "https://localhost:8080/"
        },
        "id": "nWleqzh56fzE",
        "outputId": "153f765b-fdb8-4032-c4a8-f670243b7372"
      },
      "execution_count": 17,
      "outputs": [
        {
          "output_type": "stream",
          "name": "stdout",
          "text": [
            "              precision    recall  f1-score   support\n",
            "\n",
            "           0       0.85      0.86      0.85     24827\n",
            "           1       0.86      0.85      0.85     25173\n",
            "\n",
            "    accuracy                           0.85     50000\n",
            "   macro avg       0.85      0.85      0.85     50000\n",
            "weighted avg       0.85      0.85      0.85     50000\n",
            "\n"
          ]
        }
      ]
    },
    {
      "cell_type": "code",
      "source": [
        "model4 = Pipeline([\n",
        "    ('vect', TfidfVectorizer(tokenizer=tokenize_pos, ngram_range=(1, 2))),\n",
        "    ('mb', MultinomialNB()),\n",
        "])"
      ],
      "metadata": {
        "id": "eOvFDQP76hVf"
      },
      "execution_count": 18,
      "outputs": []
    },
    {
      "cell_type": "code",
      "source": [
        "model4.fit(X, y)"
      ],
      "metadata": {
        "colab": {
          "base_uri": "https://localhost:8080/"
        },
        "id": "3SoIOvnh6iwZ",
        "outputId": "26a2f763-9124-4320-b07d-3a64d9db393c"
      },
      "execution_count": 19,
      "outputs": [
        {
          "output_type": "execute_result",
          "data": {
            "text/plain": [
              "Pipeline(steps=[('vect',\n",
              "                 TfidfVectorizer(ngram_range=(1, 2),\n",
              "                                 tokenizer=<function tokenize_pos at 0x7f8ac0653950>)),\n",
              "                ('mb', MultinomialNB())])"
            ]
          },
          "metadata": {},
          "execution_count": 19
        }
      ]
    },
    {
      "cell_type": "code",
      "source": [
        "print(classification_report(y_test, model4.predict(X_test)))"
      ],
      "metadata": {
        "colab": {
          "base_uri": "https://localhost:8080/"
        },
        "id": "FRq9y1Ys6kIY",
        "outputId": "30629caa-1be6-426c-fa24-d10c9175ca57"
      },
      "execution_count": 20,
      "outputs": [
        {
          "output_type": "stream",
          "name": "stdout",
          "text": [
            "              precision    recall  f1-score   support\n",
            "\n",
            "           0       0.86      0.87      0.87     24827\n",
            "           1       0.87      0.86      0.87     25173\n",
            "\n",
            "    accuracy                           0.87     50000\n",
            "   macro avg       0.87      0.87      0.87     50000\n",
            "weighted avg       0.87      0.87      0.87     50000\n",
            "\n"
          ]
        }
      ]
    }
  ]
}