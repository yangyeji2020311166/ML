{
  "nbformat": 4,
  "nbformat_minor": 0,
  "metadata": {
    "colab": {
      "name": "딥러닝 실습.ipynb",
      "provenance": [],
      "collapsed_sections": [],
      "authorship_tag": "ABX9TyPiS9GQkWvOxiExdnns6gyB",
      "include_colab_link": true
    },
    "kernelspec": {
      "name": "python3",
      "display_name": "Python 3"
    },
    "language_info": {
      "name": "python"
    }
  },
  "cells": [
    {
      "cell_type": "markdown",
      "metadata": {
        "id": "view-in-github",
        "colab_type": "text"
      },
      "source": [
        "<a href=\"https://colab.research.google.com/github/yangyeji2020311166/ML/blob/main/%EB%94%A5%EB%9F%AC%EB%8B%9D_%EC%8B%A4%EC%8A%B5.ipynb\" target=\"_parent\"><img src=\"https://colab.research.google.com/assets/colab-badge.svg\" alt=\"Open In Colab\"/></a>"
      ]
    },
    {
      "cell_type": "code",
      "execution_count": 9,
      "metadata": {
        "colab": {
          "base_uri": "https://localhost:8080/"
        },
        "id": "jBh4J1Q50ml7",
        "outputId": "461585b9-6761-4560-a6e7-c888ce7f37f7"
      },
      "outputs": [
        {
          "output_type": "stream",
          "name": "stdout",
          "text": [
            "breastcancer_dataset의 키:\n",
            " dict_keys(['data', 'target', 'frame', 'target_names', 'DESCR', 'feature_names', 'filename', 'data_module'])\n"
          ]
        }
      ],
      "source": [
        "import numpy as np\n",
        "import matplotlib.pyplot as plt\n",
        "import pandas as pd\n",
        "\n",
        "\n",
        "from sklearn.datasets import load_breast_cancer\n",
        "breastcancer_dataset=load_breast_cancer()\n",
        "print(\"breastcancer_dataset의 키:\\n\", breastcancer_dataset.keys())"
      ]
    },
    {
      "cell_type": "code",
      "source": [
        "from google.colab import drive\n",
        "drive.mount('/content/drive')"
      ],
      "metadata": {
        "colab": {
          "base_uri": "https://localhost:8080/"
        },
        "id": "FqXcPAe90oAu",
        "outputId": "2e93b4b4-a0a7-44cb-dcf1-4a29153a9c5a"
      },
      "execution_count": 10,
      "outputs": [
        {
          "output_type": "stream",
          "name": "stdout",
          "text": [
            "Drive already mounted at /content/drive; to attempt to forcibly remount, call drive.mount(\"/content/drive\", force_remount=True).\n"
          ]
        }
      ]
    },
    {
      "cell_type": "code",
      "source": [
        "print(breastcancer_dataset['data'])\n",
        "print(type(breastcancer_dataset['data']))\n",
        "print(breastcancer_dataset['target'])"
      ],
      "metadata": {
        "colab": {
          "base_uri": "https://localhost:8080/"
        },
        "id": "5VuK2BsD0n_E",
        "outputId": "124e836c-8778-47f3-d3bf-0f61624f588b"
      },
      "execution_count": 15,
      "outputs": [
        {
          "output_type": "stream",
          "name": "stdout",
          "text": [
            "[[1.799e+01 1.038e+01 1.228e+02 ... 2.654e-01 4.601e-01 1.189e-01]\n",
            " [2.057e+01 1.777e+01 1.329e+02 ... 1.860e-01 2.750e-01 8.902e-02]\n",
            " [1.969e+01 2.125e+01 1.300e+02 ... 2.430e-01 3.613e-01 8.758e-02]\n",
            " ...\n",
            " [1.660e+01 2.808e+01 1.083e+02 ... 1.418e-01 2.218e-01 7.820e-02]\n",
            " [2.060e+01 2.933e+01 1.401e+02 ... 2.650e-01 4.087e-01 1.240e-01]\n",
            " [7.760e+00 2.454e+01 4.792e+01 ... 0.000e+00 2.871e-01 7.039e-02]]\n",
            "<class 'numpy.ndarray'>\n",
            "[0 0 0 0 0 0 0 0 0 0 0 0 0 0 0 0 0 0 0 1 1 1 0 0 0 0 0 0 0 0 0 0 0 0 0 0 0\n",
            " 1 0 0 0 0 0 0 0 0 1 0 1 1 1 1 1 0 0 1 0 0 1 1 1 1 0 1 0 0 1 1 1 1 0 1 0 0\n",
            " 1 0 1 0 0 1 1 1 0 0 1 0 0 0 1 1 1 0 1 1 0 0 1 1 1 0 0 1 1 1 1 0 1 1 0 1 1\n",
            " 1 1 1 1 1 1 0 0 0 1 0 0 1 1 1 0 0 1 0 1 0 0 1 0 0 1 1 0 1 1 0 1 1 1 1 0 1\n",
            " 1 1 1 1 1 1 1 1 0 1 1 1 1 0 0 1 0 1 1 0 0 1 1 0 0 1 1 1 1 0 1 1 0 0 0 1 0\n",
            " 1 0 1 1 1 0 1 1 0 0 1 0 0 0 0 1 0 0 0 1 0 1 0 1 1 0 1 0 0 0 0 1 1 0 0 1 1\n",
            " 1 0 1 1 1 1 1 0 0 1 1 0 1 1 0 0 1 0 1 1 1 1 0 1 1 1 1 1 0 1 0 0 0 0 0 0 0\n",
            " 0 0 0 0 0 0 0 1 1 1 1 1 1 0 1 0 1 1 0 1 1 0 1 0 0 1 1 1 1 1 1 1 1 1 1 1 1\n",
            " 1 0 1 1 0 1 0 1 1 1 1 1 1 1 1 1 1 1 1 1 1 0 1 1 1 0 1 0 1 1 1 1 0 0 0 1 1\n",
            " 1 1 0 1 0 1 0 1 1 1 0 1 1 1 1 1 1 1 0 0 0 1 1 1 1 1 1 1 1 1 1 1 0 0 1 0 0\n",
            " 0 1 0 0 1 1 1 1 1 0 1 1 1 1 1 0 1 1 1 0 1 1 0 0 1 1 1 1 1 1 0 1 1 1 1 1 1\n",
            " 1 0 1 1 1 1 1 0 1 1 0 1 1 1 1 1 1 1 1 1 1 1 1 0 1 0 0 1 0 1 1 1 1 1 0 1 1\n",
            " 0 1 0 1 1 0 1 0 1 1 1 1 1 1 1 1 0 0 1 1 1 1 1 1 0 1 1 1 1 1 1 1 1 1 1 0 1\n",
            " 1 1 1 1 1 1 0 1 0 1 1 0 1 1 1 1 1 0 0 1 0 1 0 1 1 1 1 1 0 1 1 0 1 0 1 0 0\n",
            " 1 1 1 0 1 1 1 1 1 1 1 1 1 1 1 0 1 0 0 1 1 1 1 1 1 1 1 1 1 1 1 1 1 1 1 1 1\n",
            " 1 1 1 1 1 1 1 0 0 0 0 0 0 1]\n"
          ]
        }
      ]
    },
    {
      "cell_type": "code",
      "source": [
        "import math\n",
        "import random\n",
        "zValue = [0,0,0,0,0,0,0]\n",
        "FinalzValue = [0,0,0,0,0,0,0]\n",
        "\n",
        "a = random.uniform(-1,1)\n",
        "b = random.uniform(-1,1)\n",
        "c = random.uniform(-1,1)\n",
        "d = random.uniform(-1,1)\n",
        "e = random.uniform(-1,1)\n",
        "f = random.uniform(-1,1)\n",
        "g = random.uniform(-1,1)\n",
        "h = random.uniform(-1,1)\n",
        "i = random.uniform(-1,1)\n",
        "\n",
        "eta = 0.0001\n",
        "\n",
        "def sigmoid(x):\n",
        "    return 1.0/(1.0+math.exp(-x))\n",
        "\n",
        "data = breastcancer_dataset['data']\n",
        "labels = breastcancer_dataset['target']\n",
        "\n",
        "for counter in range(1000):\n",
        "    da=db=dc=dd=de=df=dg=dh=di=0.0\n",
        "    for index in range(len(data)):\n",
        "        x = float(data[index][0])\n",
        "        y = float(data[index][1])\n",
        "        z1 = a*x+b*y+c\n",
        "        X = sigmoid(z1)\n",
        "        z2 = d*x+e*y+f\n",
        "        Y = sigmoid(z2)\n",
        "        z = g*X+h*Y+i\n",
        "        Z = labels[index]\n",
        "        dz = 2*(z-Z)\n",
        "        dz1 = dz*g*sigmoid(z1)*(1.0-sigmoid(z1))\n",
        "        dz2 = dz*h*sigmoid(z2)*(1.0-sigmoid(z2))\n",
        "        da += dz1*x\n",
        "        db += dz1*y\n",
        "        dc += dz1\n",
        "        dd += dz2*x\n",
        "        de += dz2*y\n",
        "        df += dz2\n",
        "        dg += dz*X\n",
        "        dh += dz*Y\n",
        "        di += dz\n",
        "\n",
        "    a = a-eta*da\n",
        "    b = b-eta*db\n",
        "    c = c-eta*dc\n",
        "    d = d-eta*dd\n",
        "    e = e-eta*de\n",
        "    f = f-eta*df\n",
        "    g = g-eta*dg\n",
        "    h = h-eta*dh\n",
        "    i = i-eta*di\n",
        "    \n",
        "print(\"a=%lf, b = %lf, c = %lf, d = %lf, e = %lf, f = %lf, g = %lf, h = %lf, i = %lf\" % (a,b,c,d,e,f,g,h,i))\n"
      ],
      "metadata": {
        "colab": {
          "base_uri": "https://localhost:8080/"
        },
        "id": "R2ZTPrI80n9L",
        "outputId": "08f781a7-c233-4ec0-b0c9-194d0c4c4237"
      },
      "execution_count": 16,
      "outputs": [
        {
          "output_type": "stream",
          "name": "stdout",
          "text": [
            "a=-0.263068, b = 0.536833, c = 0.912720, d = 0.777354, e = -0.002941, f = 0.684717, g = -0.108795, h = 0.806535, i = -0.070617\n"
          ]
        }
      ]
    }
  ]
}