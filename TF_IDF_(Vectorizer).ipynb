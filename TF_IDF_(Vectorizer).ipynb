{
  "nbformat": 4,
  "nbformat_minor": 0,
  "metadata": {
    "colab": {
      "name": "TF - IDF (Vectorizer).ipynb",
      "provenance": [],
      "private_outputs": true,
      "collapsed_sections": [],
      "authorship_tag": "ABX9TyP4bbJ/TpmOI5si8cEpkFhz",
      "include_colab_link": true
    },
    "kernelspec": {
      "name": "python3",
      "display_name": "Python 3"
    },
    "language_info": {
      "name": "python"
    }
  },
  "cells": [
    {
      "cell_type": "markdown",
      "metadata": {
        "id": "view-in-github",
        "colab_type": "text"
      },
      "source": [
        "<a href=\"https://colab.research.google.com/github/yangyeji2020311166/ML/blob/main/TF_IDF_(Vectorizer).ipynb\" target=\"_parent\"><img src=\"https://colab.research.google.com/assets/colab-badge.svg\" alt=\"Open In Colab\"/></a>"
      ]
    },
    {
      "cell_type": "code",
      "execution_count": null,
      "metadata": {
        "id": "CymCYP2gJt-A"
      },
      "outputs": [],
      "source": [
        "import pandas as pd\n",
        "import matplotlib.font_manager as fm\n",
        "import matplotlib.pyplot as plt\n",
        "from future.utils import iteritems\n",
        "from collections import Counter\n",
        "from sklearn.manifold import TSNE\n",
        "from sklearn.feature_extraction.text import TfidfVectorizer\n",
        "from sklearn.feature_extraction.text import CountVectorizer\n",
        "from tqdm import tqdm\n",
        "from sklearn.feature_extraction.text import TfidfTransformer"
      ]
    },
    {
      "cell_type": "code",
      "source": [
        "!apt-get update \n",
        "!apt-get install g++ openjdk-8-jdk python-dev python3-dev \n",
        "!pip3 install JPype1-py3 \n",
        "!pip3 install konlpy \n",
        "!JAVA_HOME=\"C:\\Program Files\\Java\\jdk-17\\\""
      ],
      "metadata": {
        "id": "UKAIq2hyKGPs"
      },
      "execution_count": null,
      "outputs": []
    },
    {
      "cell_type": "code",
      "source": [
        "f=open('/content/스마트폰 크롤링.txt','r',encoding='utf-8')\n",
        "txt = f.readlines()\n",
        "f.close()\n",
        "\n",
        "txt2=[]          #중복 댓글 제거\n",
        "for item in txt:\n",
        "    if item not in txt2:\n",
        "        txt2.append(item)\n",
        "\n",
        "\n",
        "print(txt2)"
      ],
      "metadata": {
        "id": "puxsQPZ8KGN7"
      },
      "execution_count": null,
      "outputs": []
    },
    {
      "cell_type": "code",
      "source": [
        "##대댓글 아이디 삭제하기\n",
        "remove_id_list=[]\n",
        "for i in range(len(txt2)):\n",
        "  if '?@' in txt2[i]:\n",
        "    cnt = 0\n",
        "    for j in range(len(txt2[i])):\n",
        "      if (txt2[i][j] == '?' or txt2[i][j] == ' '):\n",
        "        if (txt2[i][j] == '?'):\n",
        "          cnt+=1\n",
        "      elif cnt>=2:\n",
        "        break\n",
        "    tmp = txt2[i].split(sep='?',maxsplit=cnt)\n",
        "    remove_id_list.append(tmp[cnt])\n",
        "  else:\n",
        "    remove_id_list.append(txt2[i])\n"
      ],
      "metadata": {
        "id": "yame1lTbKGMP"
      },
      "execution_count": null,
      "outputs": []
    },
    {
      "cell_type": "code",
      "source": [
        "from konlpy.tag import Okt\n",
        "import konlpy\n",
        "okt = konlpy.tag.Okt()\n",
        "\n",
        "for i, document in enumerate(remove_id_list):\n",
        "    okt = konlpy.tag.Okt()\n",
        "    clean_words = []\n",
        "    for word in okt.pos(document, stem=True): #어간 추출\n",
        "        if word[1] in ['Noun']: #명사\n",
        "            clean_words.append(word[0])\n",
        "    remove_id_list[i] = clean_words"
      ],
      "metadata": {
        "id": "kaLwcX6lKGKR"
      },
      "execution_count": null,
      "outputs": []
    },
    {
      "cell_type": "code",
      "source": [
        "#불용어 제거\n",
        "f = open('/content/스탑워드 + 하다.txt', \"rt\", encoding=\"utf-8\") \n",
        "lines = f.readlines()\n",
        "stopwords = []\n",
        "unique_Noun_words=[]\n",
        "for line in lines:\n",
        "    line = line.replace('\\n', '')\n",
        "    stopwords.append(line)\n",
        "f.close()\n",
        "print(stopwords)\n",
        "\n",
        "\n",
        "unique_Noun_words=[]\n",
        "for i in range(len(remove_id_list)):#이차원 배열 전체에서 for 문 돌리기\n",
        "  tmp=[]\n",
        "  for j in range(len(remove_id_list[i])):#배열 안에서 일차원 배열의 길이가 서로 다 다르니깐 그 길이만큼 돌리면서\n",
        "    if remove_id_list[i][j] not in stopwords:#불용어 있는지 검사 없으면 tmp에 임시저장\n",
        "      tmp.append(remove_id_list[i][j])\n",
        "  unique_Noun_words.append(tmp)#tmp에 임시저장한 리스트를 배열 전체 하나가 끝날때마다 검사"
      ],
      "metadata": {
        "id": "HZBXYPj1KGIx"
      },
      "execution_count": null,
      "outputs": []
    },
    {
      "cell_type": "code",
      "source": [
        "test = []\n",
        "for doc in unique_Noun_words:\n",
        "    for word in doc:\n",
        "    \t# 특수문자, 숫자로만 구성된 단어, 1글자 단어\n",
        "        if word.isalnum() == False or word.isdigit() == True or len(word) == 1:\n",
        "#             print(\"특수\")\n",
        "            continue\n",
        "        test.append(word)\n",
        "\n",
        "# 등장 단어리스트 추출\n",
        "vocab = list(set(test))\n",
        "vocab.sort()"
      ],
      "metadata": {
        "id": "MLPn5yZKKGG3"
      },
      "execution_count": null,
      "outputs": []
    },
    {
      "cell_type": "code",
      "source": [
        "tfidfwords = []\n",
        "for x in range(len(unique_Noun_words)):\n",
        "  tfidfwords.append((',').join(unique_Noun_words[x]))\n",
        "print(tfidfwords)"
      ],
      "metadata": {
        "id": "ukkid_smKGFR"
      },
      "execution_count": null,
      "outputs": []
    },
    {
      "cell_type": "code",
      "source": [
        "count_vec = CountVectorizer()     #글자수 세기\n",
        "document_term_matrix = count_vec.fit_transform(tfidfwords).toarray()\n",
        "print(document_term_matrix)"
      ],
      "metadata": {
        "id": "drkUN2F7KGDw"
      },
      "execution_count": null,
      "outputs": []
    },
    {
      "cell_type": "code",
      "source": [
        "tfidf_trans = TfidfTransformer()    #글자수 matrix를 활용해서 tf-idf 구하는 방법(1)\n",
        "tfidf_trans.fit_transform(document_term_matrix).toarray()"
      ],
      "metadata": {
        "id": "_NLKTlGsLOe_"
      },
      "execution_count": null,
      "outputs": []
    },
    {
      "cell_type": "code",
      "source": [
        "tfidf_vec = TfidfVectorizer()     #곧바로 tf-idf 구하는 방법(2)\n",
        "tfidf_vec.fit_transform(tfidfwords).toarray()"
      ],
      "metadata": {
        "id": "tR5oAtv_LOct"
      },
      "execution_count": null,
      "outputs": []
    },
    {
      "cell_type": "code",
      "source": [
        "tfidf_dict = tfidf_vec.get_feature_names()"
      ],
      "metadata": {
        "id": "6df4Dj__UIyx"
      },
      "execution_count": null,
      "outputs": []
    },
    {
      "cell_type": "code",
      "source": [
        "tf_ = pd.DataFrame(document_term_matrix, columns = tfidf_dict)\n",
        "tf_.sum().sort_values(ascending = False)[:50]"
      ],
      "metadata": {
        "id": "TazgwuvbT25t"
      },
      "execution_count": null,
      "outputs": []
    },
    {
      "cell_type": "code",
      "source": [
        "tfidf_ = pd.DataFrame(tfidf_trans.fit_transform(document_term_matrix).toarray(), columns = tfidf_dict)"
      ],
      "metadata": {
        "id": "x5UOSSHST2zB"
      },
      "execution_count": null,
      "outputs": []
    },
    {
      "cell_type": "code",
      "source": [
        "tfidf_.sum().sort_values(ascending = False)[:50]"
      ],
      "metadata": {
        "id": "tms33osjT2wK"
      },
      "execution_count": null,
      "outputs": []
    },
    {
      "cell_type": "code",
      "source": [
        "tfidf2_ = pd.DataFrame(tfidf_vec.fit_transform(tfidfwords).toarray(), columns = tfidf_dict)"
      ],
      "metadata": {
        "id": "1A5ym7NNLObD"
      },
      "execution_count": null,
      "outputs": []
    },
    {
      "cell_type": "code",
      "source": [
        "tfidf2_.sum().sort_values(ascending = False)[:50]"
      ],
      "metadata": {
        "id": "jx54lhGHLOZC"
      },
      "execution_count": null,
      "outputs": []
    },
    {
      "cell_type": "code",
      "source": [
        "tfidfsum = pd.DataFrame(tfidf2_.sum().sort_values(ascending = False)[:50])\n",
        "tfidfsum.head(10)\n",
        "weightlist = []\n",
        "for x in range(len(tfidfsum)):\n",
        "  weightlist.append(tfidfsum.index[x])\n",
        "weightdata = tfidfsum.to_dict('index')\n",
        "print(weightdata)"
      ],
      "metadata": {
        "id": "6wh7lcSALOXQ"
      },
      "execution_count": null,
      "outputs": []
    },
    {
      "cell_type": "code",
      "source": [
        "weightdict = {}\n",
        "for x in weightlist:\n",
        "  weightdict[x] = weightdata[x][0]\n",
        "print(weightdict)"
      ],
      "metadata": {
        "id": "Ms1e2cW9WuJm"
      },
      "execution_count": null,
      "outputs": []
    },
    {
      "cell_type": "code",
      "source": [
        "from wordcloud import WordCloud\n",
        "import matplotlib.pyplot as plt\n",
        "\n",
        "!apt-get update -qq\n",
        "!apt-get install fonts-nanum* -qq\n",
        "\n",
        "font = '/usr/share/fonts/truetype/nanum/NanumGothicEco.ttf'\n",
        "wordcloud = WordCloud(font_path = font, background_color='white',colormap = \"Accent_r\", \n",
        "                      width=3000, height=2000).generate_from_frequencies(weightdict)\n",
        "\n",
        "plt.imshow(wordcloud) \n",
        "plt.axis('off') \n",
        "plt.show()"
      ],
      "metadata": {
        "id": "hJyfojdNWuHp"
      },
      "execution_count": null,
      "outputs": []
    }
  ]
}